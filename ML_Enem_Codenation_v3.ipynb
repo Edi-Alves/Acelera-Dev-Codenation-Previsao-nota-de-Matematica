{
 "cells": [
  {
   "cell_type": "code",
   "execution_count": 1,
   "metadata": {},
   "outputs": [],
   "source": [
    "# Score 93,44%\n",
    "# Projeto Codenation. Prever a nota de matemática referente ao ENEN de 2016.\n",
    "# Incluido as colunas TP_ESCOLA, TP_ST_CONCLUSAO, TP_COR_RACA, TP_ANO_CONCLUIU\n",
    "# TP_DEPENDENCIA_ADM_ESC, 'IN_BAIXA_VISAO', 'IN_CEGUEIRA', 'IN_SURDEZ',"
   ]
  },
  {
   "cell_type": "code",
   "execution_count": 2,
   "metadata": {},
   "outputs": [],
   "source": [
    "import pandas as pd\n",
    "import seaborn as sns\n",
    "import matplotlib.pyplot as plt\n",
    "from sklearn.preprocessing import scale, MinMaxScaler, StandardScaler\n",
    "from sklearn import preprocessing\n",
    "from sklearn.ensemble import RandomForestRegressor\n",
    "from sklearn import metrics\n",
    "import numpy as np"
   ]
  },
  {
   "cell_type": "code",
   "execution_count": 3,
   "metadata": {},
   "outputs": [],
   "source": [
    "# Leitura do arquivo de treino\n",
    "train = pd.read_csv(\"train.csv\")"
   ]
  },
  {
   "cell_type": "code",
   "execution_count": 4,
   "metadata": {},
   "outputs": [],
   "source": [
    "# Leitura do arquivo de teste\n",
    "test = pd.read_csv(\"test.csv\")"
   ]
  },
  {
   "cell_type": "code",
   "execution_count": 5,
   "metadata": {},
   "outputs": [
    {
     "data": {
      "text/plain": [
       "Index(['NU_INSCRICAO', 'CO_UF_RESIDENCIA', 'SG_UF_RESIDENCIA', 'NU_IDADE',\n",
       "       'TP_SEXO', 'TP_COR_RACA', 'TP_NACIONALIDADE', 'TP_ST_CONCLUSAO',\n",
       "       'TP_ANO_CONCLUIU', 'TP_ESCOLA', 'TP_ENSINO', 'IN_TREINEIRO',\n",
       "       'TP_DEPENDENCIA_ADM_ESC', 'IN_BAIXA_VISAO', 'IN_CEGUEIRA', 'IN_SURDEZ',\n",
       "       'IN_DISLEXIA', 'IN_DISCALCULIA', 'IN_SABATISTA', 'IN_GESTANTE',\n",
       "       'IN_IDOSO', 'TP_PRESENCA_CN', 'TP_PRESENCA_CH', 'TP_PRESENCA_LC',\n",
       "       'CO_PROVA_CN', 'CO_PROVA_CH', 'CO_PROVA_LC', 'CO_PROVA_MT',\n",
       "       'NU_NOTA_CN', 'NU_NOTA_CH', 'NU_NOTA_LC', 'TP_LINGUA',\n",
       "       'TP_STATUS_REDACAO', 'NU_NOTA_COMP1', 'NU_NOTA_COMP2', 'NU_NOTA_COMP3',\n",
       "       'NU_NOTA_COMP4', 'NU_NOTA_COMP5', 'NU_NOTA_REDACAO', 'Q001', 'Q002',\n",
       "       'Q006', 'Q024', 'Q025', 'Q026', 'Q027', 'Q047'],\n",
       "      dtype='object')"
      ]
     },
     "execution_count": 5,
     "metadata": {},
     "output_type": "execute_result"
    }
   ],
   "source": [
    "test.columns"
   ]
  },
  {
   "cell_type": "code",
   "execution_count": 6,
   "metadata": {},
   "outputs": [],
   "source": [
    "# Notamos que a quantidade de colunas entre os datasets são diferentes. Vamos verificar quais colunas\n",
    "# possuem em cada dataset.\n",
    "\n",
    "#train_cols = train.columns\n",
    "#test_cols = test.columns\n",
    "\n",
    "#common_cols = train_cols.intersection(test_cols)\n",
    "#train_not_test = train_cols.difference(test_cols)"
   ]
  },
  {
   "cell_type": "code",
   "execution_count": 7,
   "metadata": {},
   "outputs": [],
   "source": [
    "# Verificação das colunas comuns. Observar qua a variavel target que é a coluna NU_NOTA_MT não está\n",
    "# presente no dataset de teste e sim no dataset de treino.\n",
    "#common_cols"
   ]
  },
  {
   "cell_type": "code",
   "execution_count": 8,
   "metadata": {},
   "outputs": [
    {
     "data": {
      "text/plain": [
       "count    10133.000000\n",
       "mean       482.497928\n",
       "std         99.826323\n",
       "min          0.000000\n",
       "25%        408.900000\n",
       "50%        461.200000\n",
       "75%        537.600000\n",
       "max        952.000000\n",
       "Name: NU_NOTA_MT, dtype: float64"
      ]
     },
     "execution_count": 8,
     "metadata": {},
     "output_type": "execute_result"
    }
   ],
   "source": [
    "# Verificando o resumo estatístico da variavel target. Aqui já podemos observar que a media é 482 e\n",
    "# o valor maximo 952 que possívelmente é outlier, pois está muito acima da media. Só com esta \n",
    "# observação podemos inferir algumas coisas: Qual o perfil dos alunos acima da média? São de alguma \n",
    "# regiao especifica? São de escola publica ou particular? QUal a raça deles?\n",
    "train[\"NU_NOTA_MT\"].describe()"
   ]
  },
  {
   "cell_type": "code",
   "execution_count": 9,
   "metadata": {},
   "outputs": [
    {
     "data": {
      "text/html": [
       "<div>\n",
       "<style scoped>\n",
       "    .dataframe tbody tr th:only-of-type {\n",
       "        vertical-align: middle;\n",
       "    }\n",
       "\n",
       "    .dataframe tbody tr th {\n",
       "        vertical-align: top;\n",
       "    }\n",
       "\n",
       "    .dataframe thead th {\n",
       "        text-align: right;\n",
       "    }\n",
       "</style>\n",
       "<table border=\"1\" class=\"dataframe\">\n",
       "  <thead>\n",
       "    <tr style=\"text-align: right;\">\n",
       "      <th></th>\n",
       "      <th>missing_total</th>\n",
       "      <th>percent_missing</th>\n",
       "    </tr>\n",
       "  </thead>\n",
       "  <tbody>\n",
       "    <tr>\n",
       "      <th>CO_UF_ENTIDADE_CERTIFICACAO</th>\n",
       "      <td>12092</td>\n",
       "      <td>0.880699</td>\n",
       "    </tr>\n",
       "    <tr>\n",
       "      <th>NO_ENTIDADE_CERTIFICACAO</th>\n",
       "      <td>12092</td>\n",
       "      <td>0.880699</td>\n",
       "    </tr>\n",
       "    <tr>\n",
       "      <th>SG_UF_ENTIDADE_CERTIFICACAO</th>\n",
       "      <td>12092</td>\n",
       "      <td>0.880699</td>\n",
       "    </tr>\n",
       "    <tr>\n",
       "      <th>Q041</th>\n",
       "      <td>10792</td>\n",
       "      <td>0.786016</td>\n",
       "    </tr>\n",
       "    <tr>\n",
       "      <th>TP_SIT_FUNC_ESC</th>\n",
       "      <td>9448</td>\n",
       "      <td>0.688128</td>\n",
       "    </tr>\n",
       "    <tr>\n",
       "      <th>TP_LOCALIZACAO_ESC</th>\n",
       "      <td>9448</td>\n",
       "      <td>0.688128</td>\n",
       "    </tr>\n",
       "    <tr>\n",
       "      <th>TP_DEPENDENCIA_ADM_ESC</th>\n",
       "      <td>9448</td>\n",
       "      <td>0.688128</td>\n",
       "    </tr>\n",
       "    <tr>\n",
       "      <th>CO_UF_ESC</th>\n",
       "      <td>9448</td>\n",
       "      <td>0.688128</td>\n",
       "    </tr>\n",
       "    <tr>\n",
       "      <th>NO_MUNICIPIO_ESC</th>\n",
       "      <td>9448</td>\n",
       "      <td>0.688128</td>\n",
       "    </tr>\n",
       "    <tr>\n",
       "      <th>CO_MUNICIPIO_ESC</th>\n",
       "      <td>9448</td>\n",
       "      <td>0.688128</td>\n",
       "    </tr>\n",
       "  </tbody>\n",
       "</table>\n",
       "</div>"
      ],
      "text/plain": [
       "                             missing_total  percent_missing\n",
       "CO_UF_ENTIDADE_CERTIFICACAO          12092         0.880699\n",
       "NO_ENTIDADE_CERTIFICACAO             12092         0.880699\n",
       "SG_UF_ENTIDADE_CERTIFICACAO          12092         0.880699\n",
       "Q041                                 10792         0.786016\n",
       "TP_SIT_FUNC_ESC                       9448         0.688128\n",
       "TP_LOCALIZACAO_ESC                    9448         0.688128\n",
       "TP_DEPENDENCIA_ADM_ESC                9448         0.688128\n",
       "CO_UF_ESC                             9448         0.688128\n",
       "NO_MUNICIPIO_ESC                      9448         0.688128\n",
       "CO_MUNICIPIO_ESC                      9448         0.688128"
      ]
     },
     "execution_count": 9,
     "metadata": {},
     "output_type": "execute_result"
    }
   ],
   "source": [
    "missing_total = train.isnull().sum().sort_values(ascending = False)\n",
    "percent_missing = (train.isnull().sum()/train.isnull().count()).sort_values(ascending = False)\n",
    "missing = pd.concat([missing_total, percent_missing], axis = 1,\n",
    "                   keys = [\"missing_total\", \"percent_missing\"])\n",
    "missing.head(10)\n"
   ]
  },
  {
   "cell_type": "code",
   "execution_count": 10,
   "metadata": {},
   "outputs": [],
   "source": [
    "#train.describe().T"
   ]
  },
  {
   "cell_type": "code",
   "execution_count": 11,
   "metadata": {},
   "outputs": [],
   "source": [
    "#cat = train.select_dtypes(include = [\"object\"])\n",
    "#print(cat.iloc[0])"
   ]
  },
  {
   "cell_type": "code",
   "execution_count": 12,
   "metadata": {},
   "outputs": [],
   "source": [
    "# Tipo de dado por coluna\n",
    "#train.dtypes.value_counts()"
   ]
  },
  {
   "cell_type": "code",
   "execution_count": 13,
   "metadata": {},
   "outputs": [],
   "source": [
    "#test.dtypes.value_counts()"
   ]
  },
  {
   "cell_type": "markdown",
   "metadata": {},
   "source": [
    "##### PARA O PRIMEIRO MODELO E EM CARATER DE TESTE E AVALIAÇÃO, SELECIONAREI SOMENTE AS COLUNAS NUMERICAS."
   ]
  },
  {
   "cell_type": "code",
   "execution_count": 14,
   "metadata": {},
   "outputs": [],
   "source": [
    "# Selecionando somente colunas INT e FLOAT\n",
    "#df_test = test.select_dtypes(exclude = \"object\")"
   ]
  },
  {
   "cell_type": "code",
   "execution_count": 15,
   "metadata": {},
   "outputs": [],
   "source": [
    "# Ok. Agora temos 32 colunas e todas numericas. \n",
    "#df_test.head()"
   ]
  },
  {
   "cell_type": "code",
   "execution_count": 16,
   "metadata": {},
   "outputs": [],
   "source": [
    "#corr = df_test.corr()\n",
    "#f, ax = plt.subplots(figsize = (18, 18))\n",
    "#sns.heatmap(corr, cmap = \"viridis\", vmax = 1.0, vmin = -1.0,\n",
    "            #linewidths = 0.1, annot = True, square = True)"
   ]
  },
  {
   "cell_type": "code",
   "execution_count": 17,
   "metadata": {},
   "outputs": [],
   "source": [
    "#cor = train.corr()\n",
    "#f, ax = plt.subplots(figsize = (18, 18))\n",
    "#sns.heatmap(cor, cmap = \"viridis\", vmax = 1.0, vmin = -1.0,\n",
    "            #linewidths = 0.1, annot = True, square = True)"
   ]
  },
  {
   "cell_type": "code",
   "execution_count": 18,
   "metadata": {},
   "outputs": [
    {
     "name": "stdout",
     "output_type": "stream",
     "text": [
      "NU_NOTA_MT                     1.000000\n",
      "NU_NOTA_CN                     0.584941\n",
      "NU_NOTA_CH                     0.529594\n",
      "NU_NOTA_LC                     0.494695\n",
      "NU_NOTA_REDACAO                0.379376\n",
      "TP_DEPENDENCIA_ADM_ESC         0.373233\n",
      "NU_NOTA_COMP3                  0.350307\n",
      "NU_NOTA_COMP5                  0.343337\n",
      "NU_NOTA_COMP4                  0.342282\n",
      "NU_NOTA_COMP2                  0.335638\n",
      "NU_NOTA_COMP1                  0.299402\n",
      "Q037                           0.265249\n",
      "Q038                           0.202259\n",
      "TP_LINGUA                      0.201726\n",
      "TP_COR_RACA                    0.157364\n",
      "Q036                           0.145501\n",
      "Q041                           0.131795\n",
      "Q030                           0.127963\n",
      "Q029                           0.124075\n",
      "Q040                           0.119997\n",
      "Q033                           0.114083\n",
      "CO_MUNICIPIO_NASCIMENTO        0.113416\n",
      "CO_UF_NASCIMENTO               0.112236\n",
      "CO_MUNICIPIO_PROVA             0.109433\n",
      "CO_MUNICIPIO_RESIDENCIA        0.108850\n",
      "CO_UF_PROVA                    0.108251\n",
      "CO_UF_RESIDENCIA               0.107493\n",
      "Q034                           0.104780\n",
      "IN_CERTIFICADO                 0.103732\n",
      "CO_MUNICIPIO_ESC               0.102517\n",
      "                                 ...   \n",
      "IN_BAIXA_VISAO                 0.000685\n",
      "NU_ANO                              NaN\n",
      "IN_CEGUEIRA                         NaN\n",
      "IN_SURDO_CEGUEIRA                   NaN\n",
      "IN_AUTISMO                          NaN\n",
      "IN_ESTUDA_CLASSE_HOSPITALAR         NaN\n",
      "IN_BRAILLE                          NaN\n",
      "IN_GUIA_INTERPRETE                  NaN\n",
      "IN_MACA                             NaN\n",
      "IN_COMPUTADOR                       NaN\n",
      "IN_CADEIRA_ESPECIAL                 NaN\n",
      "IN_CADEIRA_CANHOTO                  NaN\n",
      "IN_CADEIRA_ACOLCHOADA               NaN\n",
      "IN_PROVA_DEITADO                    NaN\n",
      "IN_MOBILIARIO_OBESO                 NaN\n",
      "IN_LAMINA_OVERLAY                   NaN\n",
      "IN_PROTETOR_AURICULAR               NaN\n",
      "IN_MEDIDOR_GLICOSE                  NaN\n",
      "IN_MAQUINA_BRAILE                   NaN\n",
      "IN_SOROBAN                          NaN\n",
      "IN_MARCA_PASSO                      NaN\n",
      "IN_SONDA                            NaN\n",
      "IN_MEDICAMENTOS                     NaN\n",
      "IN_SALA_INDIVIDUAL                  NaN\n",
      "IN_SALA_ESPECIAL                    NaN\n",
      "IN_SALA_ACOMPANHANTE                NaN\n",
      "IN_MOBILIARIO_ESPECIFICO            NaN\n",
      "IN_MATERIAL_ESPECIFICO              NaN\n",
      "TP_PRESENCA_LC                      NaN\n",
      "TP_PRESENCA_MT                      NaN\n",
      "Name: NU_NOTA_MT, Length: 107, dtype: float64\n"
     ]
    }
   ],
   "source": [
    "features_corr = train.corr().abs()\n",
    "print(features_corr[\"NU_NOTA_MT\"].sort_values(ascending = False))"
   ]
  },
  {
   "cell_type": "code",
   "execution_count": 19,
   "metadata": {},
   "outputs": [],
   "source": [
    "# Baseado nesta correlação acima redefinirei os datasets de treino e teste. Notar que a correlação \n",
    "# entre as variáveis é muito baixa, possivelmente o modelo não terá uma acuracia muito boa, mas em \n",
    "# caráter experimental farei o modelo mesmo assim. Na próxima versão irei fazer FE, pois pelo que\n",
    "# li no dicionario de dados existem algumas variaveis categóricas que podem enriquecer o modelo.\n",
    "# A coluna \"TP_DEPENDENCIA_ADM_ESC\" possui muitos valores faltantes, portanto será retirada"
   ]
  },
  {
   "cell_type": "code",
   "execution_count": 20,
   "metadata": {},
   "outputs": [],
   "source": [
    "treino = train[[\"NU_INSCRICAO\",\"NU_NOTA_MT\",\"NU_NOTA_CN\", \"NU_NOTA_CH\", \"NU_NOTA_LC\", \"NU_NOTA_REDACAO\",\n",
    "               \"NU_NOTA_COMP3\", \"NU_NOTA_COMP5\",\"NU_NOTA_COMP4\", \"NU_NOTA_COMP2\", \"NU_NOTA_COMP1\",\n",
    "               \"TP_COR_RACA\", \"TP_ESCOLA\", \"TP_ST_CONCLUSAO\", \"TP_ANO_CONCLUIU\", \n",
    "               \"IN_BAIXA_VISAO\", 'IN_CEGUEIRA', 'IN_SURDEZ']]"
   ]
  },
  {
   "cell_type": "code",
   "execution_count": 21,
   "metadata": {},
   "outputs": [],
   "source": [
    "teste = test[[\"NU_INSCRICAO\",\"NU_NOTA_CN\", \"NU_NOTA_CH\", \"NU_NOTA_LC\", \"NU_NOTA_REDACAO\",\n",
    "               \"NU_NOTA_COMP3\", \"NU_NOTA_COMP5\",\"NU_NOTA_COMP4\", \"NU_NOTA_COMP2\", \"NU_NOTA_COMP1\",\n",
    "               \"TP_COR_RACA\", \"TP_ESCOLA\", \"TP_ST_CONCLUSAO\", \"TP_ANO_CONCLUIU\", \n",
    "               \"IN_BAIXA_VISAO\", 'IN_CEGUEIRA', 'IN_SURDEZ']]"
   ]
  },
  {
   "cell_type": "code",
   "execution_count": 22,
   "metadata": {},
   "outputs": [],
   "source": [
    "# Verificando os valores missing nos datasets"
   ]
  },
  {
   "cell_type": "code",
   "execution_count": 23,
   "metadata": {},
   "outputs": [
    {
     "data": {
      "text/plain": [
       "NU_INSCRICAO          0\n",
       "NU_NOTA_MT         3597\n",
       "NU_NOTA_CN         3389\n",
       "NU_NOTA_CH         3389\n",
       "NU_NOTA_LC         3597\n",
       "NU_NOTA_REDACAO    3597\n",
       "NU_NOTA_COMP3      3597\n",
       "NU_NOTA_COMP5      3597\n",
       "NU_NOTA_COMP4      3597\n",
       "NU_NOTA_COMP2      3597\n",
       "NU_NOTA_COMP1      3597\n",
       "TP_COR_RACA           0\n",
       "TP_ESCOLA             0\n",
       "TP_ST_CONCLUSAO       0\n",
       "TP_ANO_CONCLUIU       0\n",
       "IN_BAIXA_VISAO        0\n",
       "IN_CEGUEIRA           0\n",
       "IN_SURDEZ             0\n",
       "dtype: int64"
      ]
     },
     "execution_count": 23,
     "metadata": {},
     "output_type": "execute_result"
    }
   ],
   "source": [
    "treino.isnull().sum()"
   ]
  },
  {
   "cell_type": "code",
   "execution_count": 24,
   "metadata": {},
   "outputs": [
    {
     "data": {
      "text/html": [
       "<div>\n",
       "<style scoped>\n",
       "    .dataframe tbody tr th:only-of-type {\n",
       "        vertical-align: middle;\n",
       "    }\n",
       "\n",
       "    .dataframe tbody tr th {\n",
       "        vertical-align: top;\n",
       "    }\n",
       "\n",
       "    .dataframe thead th {\n",
       "        text-align: right;\n",
       "    }\n",
       "</style>\n",
       "<table border=\"1\" class=\"dataframe\">\n",
       "  <thead>\n",
       "    <tr style=\"text-align: right;\">\n",
       "      <th></th>\n",
       "      <th>NU_INSCRICAO</th>\n",
       "      <th>NU_NOTA_MT</th>\n",
       "      <th>NU_NOTA_CN</th>\n",
       "      <th>NU_NOTA_CH</th>\n",
       "      <th>NU_NOTA_LC</th>\n",
       "      <th>NU_NOTA_REDACAO</th>\n",
       "      <th>NU_NOTA_COMP3</th>\n",
       "      <th>NU_NOTA_COMP5</th>\n",
       "      <th>NU_NOTA_COMP4</th>\n",
       "      <th>NU_NOTA_COMP2</th>\n",
       "      <th>NU_NOTA_COMP1</th>\n",
       "      <th>TP_COR_RACA</th>\n",
       "      <th>TP_ESCOLA</th>\n",
       "      <th>TP_ST_CONCLUSAO</th>\n",
       "      <th>TP_ANO_CONCLUIU</th>\n",
       "      <th>IN_BAIXA_VISAO</th>\n",
       "      <th>IN_CEGUEIRA</th>\n",
       "      <th>IN_SURDEZ</th>\n",
       "    </tr>\n",
       "  </thead>\n",
       "  <tbody>\n",
       "    <tr>\n",
       "      <th>0</th>\n",
       "      <td>ed50e8aaa58e7a806c337585efee9ca41f1eb1ad</td>\n",
       "      <td>399.4</td>\n",
       "      <td>436.3</td>\n",
       "      <td>495.4</td>\n",
       "      <td>581.2</td>\n",
       "      <td>520.0</td>\n",
       "      <td>120.0</td>\n",
       "      <td>80.0</td>\n",
       "      <td>80.0</td>\n",
       "      <td>120.0</td>\n",
       "      <td>120.0</td>\n",
       "      <td>1</td>\n",
       "      <td>1</td>\n",
       "      <td>1</td>\n",
       "      <td>4</td>\n",
       "      <td>0</td>\n",
       "      <td>0</td>\n",
       "      <td>0</td>\n",
       "    </tr>\n",
       "    <tr>\n",
       "      <th>1</th>\n",
       "      <td>2c3acac4b33ec2b195d77e7c04a2d75727fad723</td>\n",
       "      <td>459.8</td>\n",
       "      <td>474.5</td>\n",
       "      <td>544.1</td>\n",
       "      <td>599.0</td>\n",
       "      <td>580.0</td>\n",
       "      <td>120.0</td>\n",
       "      <td>80.0</td>\n",
       "      <td>120.0</td>\n",
       "      <td>120.0</td>\n",
       "      <td>140.0</td>\n",
       "      <td>3</td>\n",
       "      <td>2</td>\n",
       "      <td>2</td>\n",
       "      <td>0</td>\n",
       "      <td>0</td>\n",
       "      <td>0</td>\n",
       "      <td>0</td>\n",
       "    </tr>\n",
       "    <tr>\n",
       "      <th>2</th>\n",
       "      <td>f4545f8ccb9ff5c8aad7d32951b3f251a26e6568</td>\n",
       "      <td>NaN</td>\n",
       "      <td>NaN</td>\n",
       "      <td>NaN</td>\n",
       "      <td>NaN</td>\n",
       "      <td>NaN</td>\n",
       "      <td>NaN</td>\n",
       "      <td>NaN</td>\n",
       "      <td>NaN</td>\n",
       "      <td>NaN</td>\n",
       "      <td>NaN</td>\n",
       "      <td>3</td>\n",
       "      <td>1</td>\n",
       "      <td>3</td>\n",
       "      <td>0</td>\n",
       "      <td>0</td>\n",
       "      <td>0</td>\n",
       "      <td>0</td>\n",
       "    </tr>\n",
       "    <tr>\n",
       "      <th>3</th>\n",
       "      <td>3d6ec248fef899c414e77f82d5c6d2bffbeaf7fe</td>\n",
       "      <td>NaN</td>\n",
       "      <td>NaN</td>\n",
       "      <td>NaN</td>\n",
       "      <td>NaN</td>\n",
       "      <td>NaN</td>\n",
       "      <td>NaN</td>\n",
       "      <td>NaN</td>\n",
       "      <td>NaN</td>\n",
       "      <td>NaN</td>\n",
       "      <td>NaN</td>\n",
       "      <td>0</td>\n",
       "      <td>1</td>\n",
       "      <td>1</td>\n",
       "      <td>9</td>\n",
       "      <td>0</td>\n",
       "      <td>0</td>\n",
       "      <td>0</td>\n",
       "    </tr>\n",
       "    <tr>\n",
       "      <th>4</th>\n",
       "      <td>bf896ac8d3ecadd6dba1dfbf50110afcbf5d3268</td>\n",
       "      <td>NaN</td>\n",
       "      <td>NaN</td>\n",
       "      <td>NaN</td>\n",
       "      <td>NaN</td>\n",
       "      <td>NaN</td>\n",
       "      <td>NaN</td>\n",
       "      <td>NaN</td>\n",
       "      <td>NaN</td>\n",
       "      <td>NaN</td>\n",
       "      <td>NaN</td>\n",
       "      <td>2</td>\n",
       "      <td>1</td>\n",
       "      <td>1</td>\n",
       "      <td>4</td>\n",
       "      <td>0</td>\n",
       "      <td>0</td>\n",
       "      <td>0</td>\n",
       "    </tr>\n",
       "  </tbody>\n",
       "</table>\n",
       "</div>"
      ],
      "text/plain": [
       "                               NU_INSCRICAO  NU_NOTA_MT  NU_NOTA_CN  \\\n",
       "0  ed50e8aaa58e7a806c337585efee9ca41f1eb1ad       399.4       436.3   \n",
       "1  2c3acac4b33ec2b195d77e7c04a2d75727fad723       459.8       474.5   \n",
       "2  f4545f8ccb9ff5c8aad7d32951b3f251a26e6568         NaN         NaN   \n",
       "3  3d6ec248fef899c414e77f82d5c6d2bffbeaf7fe         NaN         NaN   \n",
       "4  bf896ac8d3ecadd6dba1dfbf50110afcbf5d3268         NaN         NaN   \n",
       "\n",
       "   NU_NOTA_CH  NU_NOTA_LC  NU_NOTA_REDACAO  NU_NOTA_COMP3  NU_NOTA_COMP5  \\\n",
       "0       495.4       581.2            520.0          120.0           80.0   \n",
       "1       544.1       599.0            580.0          120.0           80.0   \n",
       "2         NaN         NaN              NaN            NaN            NaN   \n",
       "3         NaN         NaN              NaN            NaN            NaN   \n",
       "4         NaN         NaN              NaN            NaN            NaN   \n",
       "\n",
       "   NU_NOTA_COMP4  NU_NOTA_COMP2  NU_NOTA_COMP1  TP_COR_RACA  TP_ESCOLA  \\\n",
       "0           80.0          120.0          120.0            1          1   \n",
       "1          120.0          120.0          140.0            3          2   \n",
       "2            NaN            NaN            NaN            3          1   \n",
       "3            NaN            NaN            NaN            0          1   \n",
       "4            NaN            NaN            NaN            2          1   \n",
       "\n",
       "   TP_ST_CONCLUSAO  TP_ANO_CONCLUIU  IN_BAIXA_VISAO  IN_CEGUEIRA  IN_SURDEZ  \n",
       "0                1                4               0            0          0  \n",
       "1                2                0               0            0          0  \n",
       "2                3                0               0            0          0  \n",
       "3                1                9               0            0          0  \n",
       "4                1                4               0            0          0  "
      ]
     },
     "execution_count": 24,
     "metadata": {},
     "output_type": "execute_result"
    }
   ],
   "source": [
    "treino.head()"
   ]
  },
  {
   "cell_type": "code",
   "execution_count": 25,
   "metadata": {},
   "outputs": [
    {
     "data": {
      "text/plain": [
       "NU_INSCRICAO          0\n",
       "NU_NOTA_CN         1134\n",
       "NU_NOTA_CH         1134\n",
       "NU_NOTA_LC         1199\n",
       "NU_NOTA_REDACAO    1199\n",
       "NU_NOTA_COMP3      1199\n",
       "NU_NOTA_COMP5      1199\n",
       "NU_NOTA_COMP4      1199\n",
       "NU_NOTA_COMP2      1199\n",
       "NU_NOTA_COMP1      1199\n",
       "TP_COR_RACA           0\n",
       "TP_ESCOLA             0\n",
       "TP_ST_CONCLUSAO       0\n",
       "TP_ANO_CONCLUIU       0\n",
       "IN_BAIXA_VISAO        0\n",
       "IN_CEGUEIRA           0\n",
       "IN_SURDEZ             0\n",
       "dtype: int64"
      ]
     },
     "execution_count": 25,
     "metadata": {},
     "output_type": "execute_result"
    }
   ],
   "source": [
    "teste.isnull().sum()"
   ]
  },
  {
   "cell_type": "code",
   "execution_count": 26,
   "metadata": {},
   "outputs": [
    {
     "data": {
      "text/html": [
       "<div>\n",
       "<style scoped>\n",
       "    .dataframe tbody tr th:only-of-type {\n",
       "        vertical-align: middle;\n",
       "    }\n",
       "\n",
       "    .dataframe tbody tr th {\n",
       "        vertical-align: top;\n",
       "    }\n",
       "\n",
       "    .dataframe thead th {\n",
       "        text-align: right;\n",
       "    }\n",
       "</style>\n",
       "<table border=\"1\" class=\"dataframe\">\n",
       "  <thead>\n",
       "    <tr style=\"text-align: right;\">\n",
       "      <th></th>\n",
       "      <th>NU_INSCRICAO</th>\n",
       "      <th>NU_NOTA_CN</th>\n",
       "      <th>NU_NOTA_CH</th>\n",
       "      <th>NU_NOTA_LC</th>\n",
       "      <th>NU_NOTA_REDACAO</th>\n",
       "      <th>NU_NOTA_COMP3</th>\n",
       "      <th>NU_NOTA_COMP5</th>\n",
       "      <th>NU_NOTA_COMP4</th>\n",
       "      <th>NU_NOTA_COMP2</th>\n",
       "      <th>NU_NOTA_COMP1</th>\n",
       "      <th>TP_COR_RACA</th>\n",
       "      <th>TP_ESCOLA</th>\n",
       "      <th>TP_ST_CONCLUSAO</th>\n",
       "      <th>TP_ANO_CONCLUIU</th>\n",
       "      <th>IN_BAIXA_VISAO</th>\n",
       "      <th>IN_CEGUEIRA</th>\n",
       "      <th>IN_SURDEZ</th>\n",
       "    </tr>\n",
       "  </thead>\n",
       "  <tbody>\n",
       "    <tr>\n",
       "      <th>0</th>\n",
       "      <td>73ff9fcc02f0a99919906c942c2e1a1042cdcf98</td>\n",
       "      <td>464.8</td>\n",
       "      <td>443.5</td>\n",
       "      <td>431.8</td>\n",
       "      <td>420.0</td>\n",
       "      <td>80.0</td>\n",
       "      <td>40.0</td>\n",
       "      <td>100.0</td>\n",
       "      <td>80.0</td>\n",
       "      <td>120.0</td>\n",
       "      <td>3</td>\n",
       "      <td>1</td>\n",
       "      <td>1</td>\n",
       "      <td>5</td>\n",
       "      <td>0</td>\n",
       "      <td>0</td>\n",
       "      <td>0</td>\n",
       "    </tr>\n",
       "    <tr>\n",
       "      <th>1</th>\n",
       "      <td>71a95f9f1b91a82c65ad94abbdf9f54e6066f968</td>\n",
       "      <td>391.1</td>\n",
       "      <td>491.1</td>\n",
       "      <td>548.0</td>\n",
       "      <td>580.0</td>\n",
       "      <td>120.0</td>\n",
       "      <td>100.0</td>\n",
       "      <td>120.0</td>\n",
       "      <td>120.0</td>\n",
       "      <td>120.0</td>\n",
       "      <td>3</td>\n",
       "      <td>1</td>\n",
       "      <td>1</td>\n",
       "      <td>8</td>\n",
       "      <td>0</td>\n",
       "      <td>0</td>\n",
       "      <td>0</td>\n",
       "    </tr>\n",
       "    <tr>\n",
       "      <th>2</th>\n",
       "      <td>b38a03232f43b11c9d0788abaf060f7366053b6d</td>\n",
       "      <td>595.9</td>\n",
       "      <td>622.7</td>\n",
       "      <td>613.6</td>\n",
       "      <td>320.0</td>\n",
       "      <td>40.0</td>\n",
       "      <td>80.0</td>\n",
       "      <td>80.0</td>\n",
       "      <td>40.0</td>\n",
       "      <td>80.0</td>\n",
       "      <td>1</td>\n",
       "      <td>2</td>\n",
       "      <td>2</td>\n",
       "      <td>0</td>\n",
       "      <td>0</td>\n",
       "      <td>0</td>\n",
       "      <td>0</td>\n",
       "    </tr>\n",
       "    <tr>\n",
       "      <th>3</th>\n",
       "      <td>70b682d9a3636be23f6120fa9d6b164eb3c6002d</td>\n",
       "      <td>NaN</td>\n",
       "      <td>NaN</td>\n",
       "      <td>NaN</td>\n",
       "      <td>NaN</td>\n",
       "      <td>NaN</td>\n",
       "      <td>NaN</td>\n",
       "      <td>NaN</td>\n",
       "      <td>NaN</td>\n",
       "      <td>NaN</td>\n",
       "      <td>3</td>\n",
       "      <td>1</td>\n",
       "      <td>1</td>\n",
       "      <td>8</td>\n",
       "      <td>0</td>\n",
       "      <td>0</td>\n",
       "      <td>0</td>\n",
       "    </tr>\n",
       "    <tr>\n",
       "      <th>4</th>\n",
       "      <td>715494628a50142ce8cb17191cfe6d0f3cae0934</td>\n",
       "      <td>592.9</td>\n",
       "      <td>492.6</td>\n",
       "      <td>571.4</td>\n",
       "      <td>320.0</td>\n",
       "      <td>60.0</td>\n",
       "      <td>0.0</td>\n",
       "      <td>80.0</td>\n",
       "      <td>80.0</td>\n",
       "      <td>100.0</td>\n",
       "      <td>1</td>\n",
       "      <td>2</td>\n",
       "      <td>2</td>\n",
       "      <td>0</td>\n",
       "      <td>0</td>\n",
       "      <td>0</td>\n",
       "      <td>0</td>\n",
       "    </tr>\n",
       "  </tbody>\n",
       "</table>\n",
       "</div>"
      ],
      "text/plain": [
       "                               NU_INSCRICAO  NU_NOTA_CN  NU_NOTA_CH  \\\n",
       "0  73ff9fcc02f0a99919906c942c2e1a1042cdcf98       464.8       443.5   \n",
       "1  71a95f9f1b91a82c65ad94abbdf9f54e6066f968       391.1       491.1   \n",
       "2  b38a03232f43b11c9d0788abaf060f7366053b6d       595.9       622.7   \n",
       "3  70b682d9a3636be23f6120fa9d6b164eb3c6002d         NaN         NaN   \n",
       "4  715494628a50142ce8cb17191cfe6d0f3cae0934       592.9       492.6   \n",
       "\n",
       "   NU_NOTA_LC  NU_NOTA_REDACAO  NU_NOTA_COMP3  NU_NOTA_COMP5  NU_NOTA_COMP4  \\\n",
       "0       431.8            420.0           80.0           40.0          100.0   \n",
       "1       548.0            580.0          120.0          100.0          120.0   \n",
       "2       613.6            320.0           40.0           80.0           80.0   \n",
       "3         NaN              NaN            NaN            NaN            NaN   \n",
       "4       571.4            320.0           60.0            0.0           80.0   \n",
       "\n",
       "   NU_NOTA_COMP2  NU_NOTA_COMP1  TP_COR_RACA  TP_ESCOLA  TP_ST_CONCLUSAO  \\\n",
       "0           80.0          120.0            3          1                1   \n",
       "1          120.0          120.0            3          1                1   \n",
       "2           40.0           80.0            1          2                2   \n",
       "3            NaN            NaN            3          1                1   \n",
       "4           80.0          100.0            1          2                2   \n",
       "\n",
       "   TP_ANO_CONCLUIU  IN_BAIXA_VISAO  IN_CEGUEIRA  IN_SURDEZ  \n",
       "0                5               0            0          0  \n",
       "1                8               0            0          0  \n",
       "2                0               0            0          0  \n",
       "3                8               0            0          0  \n",
       "4                0               0            0          0  "
      ]
     },
     "execution_count": 26,
     "metadata": {},
     "output_type": "execute_result"
    }
   ],
   "source": [
    "teste.head()"
   ]
  },
  {
   "cell_type": "code",
   "execution_count": 27,
   "metadata": {},
   "outputs": [
    {
     "data": {
      "text/plain": [
       "NU_INSCRICAO        object\n",
       "NU_NOTA_CN         float64\n",
       "NU_NOTA_CH         float64\n",
       "NU_NOTA_LC         float64\n",
       "NU_NOTA_REDACAO    float64\n",
       "NU_NOTA_COMP3      float64\n",
       "NU_NOTA_COMP5      float64\n",
       "NU_NOTA_COMP4      float64\n",
       "NU_NOTA_COMP2      float64\n",
       "NU_NOTA_COMP1      float64\n",
       "TP_COR_RACA          int64\n",
       "TP_ESCOLA            int64\n",
       "TP_ST_CONCLUSAO      int64\n",
       "TP_ANO_CONCLUIU      int64\n",
       "IN_BAIXA_VISAO       int64\n",
       "IN_CEGUEIRA          int64\n",
       "IN_SURDEZ            int64\n",
       "dtype: object"
      ]
     },
     "execution_count": 27,
     "metadata": {},
     "output_type": "execute_result"
    }
   ],
   "source": [
    "treino.dtypes; teste.dtypes"
   ]
  },
  {
   "cell_type": "code",
   "execution_count": 28,
   "metadata": {},
   "outputs": [],
   "source": [
    "# Nota-se que nos gráficos abaixo que substituimos os valores nulos por 0 para poder mostrar no \n",
    "# gráfico que a quantidade de nulos, leia-se zeros é muito grande. Isto pode ter ocorrido porque\n",
    "# o aluno pode ter faltado na prova. Que no caso é Ciencias da Natureza."
   ]
  },
  {
   "cell_type": "code",
   "execution_count": 29,
   "metadata": {},
   "outputs": [
    {
     "name": "stderr",
     "output_type": "stream",
     "text": [
      "C:\\Users\\DSA\\Anaconda3\\lib\\site-packages\\matplotlib\\axes\\_axes.py:6462: UserWarning: The 'normed' kwarg is deprecated, and has been replaced by the 'density' kwarg.\n",
      "  warnings.warn(\"The 'normed' kwarg is deprecated, and has been \"\n",
      "C:\\Users\\DSA\\Anaconda3\\lib\\site-packages\\matplotlib\\axes\\_axes.py:6462: UserWarning: The 'normed' kwarg is deprecated, and has been replaced by the 'density' kwarg.\n",
      "  warnings.warn(\"The 'normed' kwarg is deprecated, and has been \"\n"
     ]
    },
    {
     "data": {
      "image/png": "[encoded data removed]",
      "text/plain": [
       "<Figure size 432x288 with 1 Axes>"
      ]
     },
     "metadata": {},
     "output_type": "display_data"
    }
   ],
   "source": [
    "# Geração de gráfico para verificar a quantidade de valores nulos na coluna especificada.\n",
    "c = treino[\"NU_NOTA_LC\"].fillna(0)\n",
    "d= teste[\"NU_NOTA_LC\"].fillna(0)\n",
    "\n",
    "sns.distplot(c)\n",
    "sns.distplot(d)\n",
    "plt.legend(labels = [\"train\", \"test\"], ncol = 2, loc = \"upper left\")\n",
    "plt.show()"
   ]
  },
  {
   "cell_type": "code",
   "execution_count": 30,
   "metadata": {},
   "outputs": [
    {
     "name": "stderr",
     "output_type": "stream",
     "text": [
      "C:\\Users\\DSA\\Anaconda3\\lib\\site-packages\\matplotlib\\axes\\_axes.py:6462: UserWarning: The 'normed' kwarg is deprecated, and has been replaced by the 'density' kwarg.\n",
      "  warnings.warn(\"The 'normed' kwarg is deprecated, and has been \"\n",
      "C:\\Users\\DSA\\Anaconda3\\lib\\site-packages\\matplotlib\\axes\\_axes.py:6462: UserWarning: The 'normed' kwarg is deprecated, and has been replaced by the 'density' kwarg.\n",
      "  warnings.warn(\"The 'normed' kwarg is deprecated, and has been \"\n"
     ]
    },
    {
     "data": {
      "image/png": "[encoded data removed]",
      "text/plain": [
       "<Figure size 432x288 with 1 Axes>"
      ]
     },
     "metadata": {},
     "output_type": "display_data"
    }
   ],
   "source": [
    "# Geração de gráfico para verificar a quantidade de valores nulos na coluna especificada.\n",
    "e = treino[\"NU_NOTA_REDACAO\"].fillna(0)\n",
    "f = teste[\"NU_NOTA_REDACAO\"].fillna(0)\n",
    "\n",
    "sns.distplot(e)\n",
    "sns.distplot(f)\n",
    "plt.legend(labels = [\"train\", \"test\"], ncol = 2, loc = \"upper left\")\n",
    "plt.show()"
   ]
  },
  {
   "cell_type": "code",
   "execution_count": 31,
   "metadata": {},
   "outputs": [
    {
     "name": "stderr",
     "output_type": "stream",
     "text": [
      "C:\\Users\\DSA\\Anaconda3\\lib\\site-packages\\matplotlib\\axes\\_axes.py:6462: UserWarning: The 'normed' kwarg is deprecated, and has been replaced by the 'density' kwarg.\n",
      "  warnings.warn(\"The 'normed' kwarg is deprecated, and has been \"\n",
      "C:\\Users\\DSA\\Anaconda3\\lib\\site-packages\\matplotlib\\axes\\_axes.py:6462: UserWarning: The 'normed' kwarg is deprecated, and has been replaced by the 'density' kwarg.\n",
      "  warnings.warn(\"The 'normed' kwarg is deprecated, and has been \"\n"
     ]
    },
    {
     "data": {
      "image/png": "[encoded data removed]",
      "text/plain": [
       "<Figure size 432x288 with 1 Axes>"
      ]
     },
     "metadata": {},
     "output_type": "display_data"
    }
   ],
   "source": [
    "# Geração de gráfico para verificar a quantidade de valores nulos na coluna especificada.\n",
    "o = treino[\"NU_NOTA_CN\"].fillna(0)\n",
    "m = teste[\"NU_NOTA_CN\"].fillna(0)\n",
    "\n",
    "sns.distplot(o)\n",
    "sns.distplot(m)\n",
    "plt.legend(labels = [\"train\", \"test\"], ncol = 2, loc = \"upper left\")\n",
    "plt.show()"
   ]
  },
  {
   "cell_type": "code",
   "execution_count": 32,
   "metadata": {},
   "outputs": [
    {
     "data": {
      "text/plain": [
       "NU_INSCRICAO       7\n",
       "NU_NOTA_MT         6\n",
       "NU_NOTA_CN         7\n",
       "NU_NOTA_CH         7\n",
       "NU_NOTA_LC         6\n",
       "NU_NOTA_REDACAO    6\n",
       "NU_NOTA_COMP3      6\n",
       "NU_NOTA_COMP5      6\n",
       "NU_NOTA_COMP4      6\n",
       "NU_NOTA_COMP2      6\n",
       "NU_NOTA_COMP1      6\n",
       "TP_COR_RACA        7\n",
       "TP_ESCOLA          7\n",
       "TP_ST_CONCLUSAO    7\n",
       "TP_ANO_CONCLUIU    7\n",
       "IN_BAIXA_VISAO     7\n",
       "IN_CEGUEIRA        7\n",
       "IN_SURDEZ          7\n",
       "dtype: int64"
      ]
     },
     "execution_count": 32,
     "metadata": {},
     "output_type": "execute_result"
    }
   ],
   "source": [
    "# Verificação da quantidade de zeros por coluna\n",
    "treino[treino[\"NU_NOTA_CN\"]== 0].count()"
   ]
  },
  {
   "cell_type": "code",
   "execution_count": 33,
   "metadata": {},
   "outputs": [
    {
     "data": {
      "text/plain": [
       "NU_INSCRICAO       2\n",
       "NU_NOTA_CN         2\n",
       "NU_NOTA_CH         2\n",
       "NU_NOTA_LC         1\n",
       "NU_NOTA_REDACAO    1\n",
       "NU_NOTA_COMP3      1\n",
       "NU_NOTA_COMP5      1\n",
       "NU_NOTA_COMP4      1\n",
       "NU_NOTA_COMP2      1\n",
       "NU_NOTA_COMP1      1\n",
       "TP_COR_RACA        2\n",
       "TP_ESCOLA          2\n",
       "TP_ST_CONCLUSAO    2\n",
       "TP_ANO_CONCLUIU    2\n",
       "IN_BAIXA_VISAO     2\n",
       "IN_CEGUEIRA        2\n",
       "IN_SURDEZ          2\n",
       "dtype: int64"
      ]
     },
     "execution_count": 33,
     "metadata": {},
     "output_type": "execute_result"
    }
   ],
   "source": [
    "# Verificação da quantidade de zeros por coluna\n",
    "teste[teste[\"NU_NOTA_CN\"]== 0].count()"
   ]
  },
  {
   "cell_type": "code",
   "execution_count": 34,
   "metadata": {},
   "outputs": [],
   "source": [
    "# Podemos perceber que a quantidade dos valores faltantes são praticamente iguais a todas as \n",
    "# variaveis. No dataset de treino cada variável tem cerca de 25% de valores missing e no dataset\n",
    "# de teste 26%. A taxa de abstenção do ENEM de 2016 foi de 30%. Portanto estou partindo do pressuposto\n",
    "# que os valores faltantes aqui foram faltas dos alunos.\n",
    "\n",
    "# Por este motivo vou dropar todas as linhas que possuam valores missing e rodar o modelo para ver o\n",
    "# resultado."
   ]
  },
  {
   "cell_type": "code",
   "execution_count": 35,
   "metadata": {},
   "outputs": [],
   "source": [
    "train1 = treino.dropna()"
   ]
  },
  {
   "cell_type": "code",
   "execution_count": 36,
   "metadata": {},
   "outputs": [
    {
     "data": {
      "text/plain": [
       "(10097, 18)"
      ]
     },
     "execution_count": 36,
     "metadata": {},
     "output_type": "execute_result"
    }
   ],
   "source": [
    "train1.shape"
   ]
  },
  {
   "cell_type": "code",
   "execution_count": 37,
   "metadata": {},
   "outputs": [
    {
     "data": {
      "text/plain": [
       "(3360, 17)"
      ]
     },
     "execution_count": 37,
     "metadata": {},
     "output_type": "execute_result"
    }
   ],
   "source": [
    "test1 = teste.dropna()\n",
    "test1.shape"
   ]
  },
  {
   "cell_type": "code",
   "execution_count": 38,
   "metadata": {},
   "outputs": [
    {
     "data": {
      "text/plain": [
       "NU_INSCRICAO       0\n",
       "NU_NOTA_MT         0\n",
       "NU_NOTA_CN         0\n",
       "NU_NOTA_CH         0\n",
       "NU_NOTA_LC         0\n",
       "NU_NOTA_REDACAO    0\n",
       "NU_NOTA_COMP3      0\n",
       "NU_NOTA_COMP5      0\n",
       "NU_NOTA_COMP4      0\n",
       "NU_NOTA_COMP2      0\n",
       "NU_NOTA_COMP1      0\n",
       "TP_COR_RACA        0\n",
       "TP_ESCOLA          0\n",
       "TP_ST_CONCLUSAO    0\n",
       "TP_ANO_CONCLUIU    0\n",
       "IN_BAIXA_VISAO     0\n",
       "IN_CEGUEIRA        0\n",
       "IN_SURDEZ          0\n",
       "dtype: int64"
      ]
     },
     "execution_count": 38,
     "metadata": {},
     "output_type": "execute_result"
    }
   ],
   "source": [
    "train1.isnull().sum()"
   ]
  },
  {
   "cell_type": "code",
   "execution_count": 39,
   "metadata": {},
   "outputs": [
    {
     "data": {
      "text/plain": [
       "NU_INSCRICAO       0\n",
       "NU_NOTA_CN         0\n",
       "NU_NOTA_CH         0\n",
       "NU_NOTA_LC         0\n",
       "NU_NOTA_REDACAO    0\n",
       "NU_NOTA_COMP3      0\n",
       "NU_NOTA_COMP5      0\n",
       "NU_NOTA_COMP4      0\n",
       "NU_NOTA_COMP2      0\n",
       "NU_NOTA_COMP1      0\n",
       "TP_COR_RACA        0\n",
       "TP_ESCOLA          0\n",
       "TP_ST_CONCLUSAO    0\n",
       "TP_ANO_CONCLUIU    0\n",
       "IN_BAIXA_VISAO     0\n",
       "IN_CEGUEIRA        0\n",
       "IN_SURDEZ          0\n",
       "dtype: int64"
      ]
     },
     "execution_count": 39,
     "metadata": {},
     "output_type": "execute_result"
    }
   ],
   "source": [
    "test1.isnull().sum()"
   ]
  },
  {
   "cell_type": "code",
   "execution_count": 40,
   "metadata": {},
   "outputs": [],
   "source": [
    "#sns.pairplot(train1)"
   ]
  },
  {
   "cell_type": "code",
   "execution_count": 41,
   "metadata": {},
   "outputs": [],
   "source": [
    "#sns.pairplot(test1)"
   ]
  },
  {
   "cell_type": "code",
   "execution_count": 42,
   "metadata": {},
   "outputs": [],
   "source": [
    "# Separando features preditoras e target\n",
    "x_train = train1.drop(['NU_INSCRICAO','NU_NOTA_MT'], axis=1)\n",
    "y_train = train1['NU_NOTA_MT']\n",
    "\n",
    "# Padronizando os dados\n",
    "scaler = StandardScaler()\n",
    "x_train = scaler.fit_transform(x_train)"
   ]
  },
  {
   "cell_type": "code",
   "execution_count": 43,
   "metadata": {},
   "outputs": [],
   "source": [
    "from sklearn.model_selection import RandomizedSearchCV"
   ]
  },
  {
   "cell_type": "markdown",
   "metadata": {},
   "source": [
    "#### CRIAÇÃO DE GRADE ALEATORIA PARA HIPERPARAMETRO"
   ]
  },
  {
   "cell_type": "code",
   "execution_count": 44,
   "metadata": {},
   "outputs": [],
   "source": [
    "# Numero de arvores no RF\n",
    "n_estimators = [int(x) for x in np.linspace(start = 200, stop = 2000, num = 10)]\n",
    "# NUMPY LINSPACE CRIA SEQUÊNCIAS DE VALORES UNIFORMEMENTE ESPAÇADOS DENTRO DE UM INTERVALO\n",
    "\n",
    "# Numero de recursos a serem considerados em cada divisao\n",
    "max_features = [\"auto\", \"sqrt\"]\n",
    "\n",
    "# Numero máximo de niveis na arvore\n",
    "max_depth = [int(z) for z in np.linspace(10, 110, num = 11)]\n",
    "max_depth.append(None)\n",
    "\n",
    "# Numero minimo de amostras necessarias para divisão de nó da folha\n",
    "min_samples_split = [2, 5, 10]\n",
    "\n",
    "# Numero minimo de amostras necessarias em cada nó da folha\n",
    "min_samples_leaf = [1, 2, 4]\n",
    "\n",
    "# Método de seleção de amostras para o treinamento de cada árvore de inicialização\n",
    "bootstrap = [True, False]"
   ]
  },
  {
   "cell_type": "code",
   "execution_count": 46,
   "metadata": {},
   "outputs": [],
   "source": [
    "# Criação do grid\n",
    "random_grid = {\"n_estimators\" : n_estimators,\n",
    "               \"max_features\" : max_features,\n",
    "               \"max_depth\" : max_depth,\n",
    "               \"min_samples_split\" : min_samples_split,\n",
    "               \"min_samples_leaf\" : min_samples_leaf,\n",
    "               \"bootstrap\" : bootstrap}\n"
   ]
  },
  {
   "cell_type": "code",
   "execution_count": 47,
   "metadata": {},
   "outputs": [
    {
     "name": "stdout",
     "output_type": "stream",
     "text": [
      "{'n_estimators': [200, 400, 600, 800, 1000, 1200, 1400, 1600, 1800, 2000], 'max_features': ['auto', 'sqrt'], 'max_depth': [10, 20, 30, 40, 50, 60, 70, 80, 90, 100, 110, None], 'min_samples_split': [2, 5, 10], 'min_samples_leaf': [1, 2, 4], 'bootstrap': [True, False]}\n"
     ]
    }
   ],
   "source": [
    "print(random_grid)"
   ]
  },
  {
   "cell_type": "code",
   "execution_count": 49,
   "metadata": {},
   "outputs": [],
   "source": [
    "rf = RandomForestRegressor()"
   ]
  },
  {
   "cell_type": "code",
   "execution_count": 50,
   "metadata": {},
   "outputs": [],
   "source": [
    "# Agora usamos o random_grid para buscar os melhores hiperparametros\n",
    "# Pesquisa parametros usando validação cruzada de 3 vezes\n",
    "# Pesquisar 100 combinaçoes diferentes\n",
    "rf_random = RandomizedSearchCV(estimator = rf, param_distributions = random_grid,\n",
    "                              n_iter = 100, cv = 3, verbose = 2, n_jobs = -1)"
   ]
  },
  {
   "cell_type": "code",
   "execution_count": 51,
   "metadata": {},
   "outputs": [
    {
     "name": "stdout",
     "output_type": "stream",
     "text": [
      "Fitting 3 folds for each of 100 candidates, totalling 300 fits\n"
     ]
    },
    {
     "name": "stderr",
     "output_type": "stream",
     "text": [
      "[Parallel(n_jobs=-1)]: Done  33 tasks      | elapsed:  8.3min\n",
      "[Parallel(n_jobs=-1)]: Done 154 tasks      | elapsed: 38.3min\n",
      "[Parallel(n_jobs=-1)]: Done 300 out of 300 | elapsed: 74.5min finished\n"
     ]
    },
    {
     "data": {
      "text/plain": [
       "RandomizedSearchCV(cv=3, error_score='raise',\n",
       "          estimator=RandomForestRegressor(bootstrap=True, criterion='mse', max_depth=None,\n",
       "           max_features='auto', max_leaf_nodes=None,\n",
       "           min_impurity_decrease=0.0, min_impurity_split=None,\n",
       "           min_samples_leaf=1, min_samples_split=2,\n",
       "           min_weight_fraction_leaf=0.0, n_estimators=10, n_jobs=1,\n",
       "           oob_score=False, random_state=None, verbose=0, warm_start=False),\n",
       "          fit_params=None, iid=True, n_iter=100, n_jobs=-1,\n",
       "          param_distributions={'n_estimators': [200, 400, 600, 800, 1000, 1200, 1400, 1600, 1800, 2000], 'max_features': ['auto', 'sqrt'], 'max_depth': [10, 20, 30, 40, 50, 60, 70, 80, 90, 100, 110, None], 'min_samples_split': [2, 5, 10], 'min_samples_leaf': [1, 2, 4], 'bootstrap': [True, False]},\n",
       "          pre_dispatch='2*n_jobs', random_state=None, refit=True,\n",
       "          return_train_score='warn', scoring=None, verbose=2)"
      ]
     },
     "execution_count": 51,
     "metadata": {},
     "output_type": "execute_result"
    }
   ],
   "source": [
    "# Fit da pesquisa aleatoria\n",
    "rf_random.fit(x_train, y_train)"
   ]
  },
  {
   "cell_type": "code",
   "execution_count": 52,
   "metadata": {},
   "outputs": [
    {
     "data": {
      "text/plain": [
       "{'n_estimators': 800,\n",
       " 'min_samples_split': 5,\n",
       " 'min_samples_leaf': 2,\n",
       " 'max_features': 'sqrt',\n",
       " 'max_depth': 10,\n",
       " 'bootstrap': True}"
      ]
     },
     "execution_count": 52,
     "metadata": {},
     "output_type": "execute_result"
    }
   ],
   "source": [
    "rf_random.best_params_"
   ]
  },
  {
   "cell_type": "code",
   "execution_count": 53,
   "metadata": {},
   "outputs": [],
   "source": [
    "rfr = RandomForestRegressor(n_estimators = 800, min_samples_split = 5,\n",
    "                           min_samples_leaf = 2, max_features = \"sqrt\", max_depth = 10,\n",
    "                           bootstrap = True)"
   ]
  },
  {
   "cell_type": "code",
   "execution_count": 54,
   "metadata": {},
   "outputs": [
    {
     "data": {
      "text/plain": [
       "RandomForestRegressor(bootstrap=True, criterion='mse', max_depth=10,\n",
       "           max_features='sqrt', max_leaf_nodes=None,\n",
       "           min_impurity_decrease=0.0, min_impurity_split=None,\n",
       "           min_samples_leaf=2, min_samples_split=5,\n",
       "           min_weight_fraction_leaf=0.0, n_estimators=800, n_jobs=1,\n",
       "           oob_score=False, random_state=None, verbose=0, warm_start=False)"
      ]
     },
     "execution_count": 54,
     "metadata": {},
     "output_type": "execute_result"
    }
   ],
   "source": [
    "rfr.fit(x_train, y_train)"
   ]
  },
  {
   "cell_type": "code",
   "execution_count": 55,
   "metadata": {},
   "outputs": [],
   "source": [
    "y_predict_train = rfr.predict(x_train)"
   ]
  },
  {
   "cell_type": "code",
   "execution_count": 56,
   "metadata": {},
   "outputs": [
    {
     "name": "stdout",
     "output_type": "stream",
     "text": [
      "MAE: 51.46989714495141\n",
      "MSE 4134.326813361419\n",
      "RMSE 64.29873104005567\n"
     ]
    }
   ],
   "source": [
    "print('MAE:', metrics.mean_absolute_error(y_train, y_predict_train))\n",
    "print(\"MSE\", metrics.mean_squared_error(y_train, y_predict_train))\n",
    "print(\"RMSE\", np.sqrt(metrics.mean_squared_error(y_train, y_predict_train)))"
   ]
  },
  {
   "cell_type": "code",
   "execution_count": 57,
   "metadata": {},
   "outputs": [],
   "source": [
    "x_test = test1.drop([\"NU_INSCRICAO\"], axis = 1)\n",
    "x_test = scaler.fit_transform(x_test)"
   ]
  },
  {
   "cell_type": "code",
   "execution_count": 58,
   "metadata": {},
   "outputs": [],
   "source": [
    "y_test_pred = rfr.predict(x_test)"
   ]
  },
  {
   "cell_type": "code",
   "execution_count": null,
   "metadata": {},
   "outputs": [],
   "source": [
    "#y_test_pred "
   ]
  },
  {
   "cell_type": "code",
   "execution_count": 59,
   "metadata": {},
   "outputs": [],
   "source": [
    "output = pd.DataFrame({\"NU_INSCRICAO\": test1.NU_INSCRICAO,\n",
    "                      \"NU_NOTA_MT\": np.round(y_test_pred,2)})"
   ]
  },
  {
   "cell_type": "code",
   "execution_count": 60,
   "metadata": {},
   "outputs": [],
   "source": [
    "output.to_csv(\"answer.csv\", index = False)"
   ]
  },
  {
   "cell_type": "code",
   "execution_count": null,
   "metadata": {},
   "outputs": [],
   "source": []
  },
  {
   "cell_type": "code",
   "execution_count": null,
   "metadata": {},
   "outputs": [],
   "source": []
  },
  {
   "cell_type": "code",
   "execution_count": null,
   "metadata": {},
   "outputs": [],
   "source": []
  },
  {
   "cell_type": "code",
   "execution_count": null,
   "metadata": {},
   "outputs": [],
   "source": []
  }
 ],
 "metadata": {
  "kernelspec": {
   "display_name": "Python 3",
   "language": "python",
   "name": "python3"
  },
  "language_info": {
   "codemirror_mode": {
    "name": "ipython",
    "version": 3
   },
   "file_extension": ".py",
   "mimetype": "text/x-python",
   "name": "python",
   "nbconvert_exporter": "python",
   "pygments_lexer": "ipython3",
   "version": "3.6.5"
  }
 },
 "nbformat": 4,
 "nbformat_minor": 2
}
